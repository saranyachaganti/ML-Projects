{
 "cells": [
  {
   "cell_type": "markdown",
   "metadata": {},
   "source": [
    "### Importing necessary datasets"
   ]
  },
  {
   "cell_type": "code",
   "execution_count": 2,
   "metadata": {},
   "outputs": [],
   "source": [
    "import tensorflow as tf\n",
    "from tensorflow import keras\n",
    "import numpy as np\n",
    "import matplotlib.pyplot as plt"
   ]
  },
  {
   "cell_type": "code",
   "execution_count": 3,
   "metadata": {},
   "outputs": [],
   "source": [
    "data = keras.datasets.fashion_mnist"
   ]
  },
  {
   "cell_type": "code",
   "execution_count": 4,
   "metadata": {},
   "outputs": [],
   "source": [
    "(train_images,train_labels), (test_image,test_labels) = data.load_data()"
   ]
  },
  {
   "cell_type": "markdown",
   "metadata": {},
   "source": [
    "### To figure out the number of labels"
   ]
  },
  {
   "cell_type": "code",
   "execution_count": 5,
   "metadata": {},
   "outputs": [
    {
     "name": "stdout",
     "output_type": "stream",
     "text": [
      "7\n"
     ]
    }
   ],
   "source": [
    "print(train_labels[6])"
   ]
  },
  {
   "cell_type": "markdown",
   "metadata": {},
   "source": [
    "### To find out the shape of the training and test datasets"
   ]
  },
  {
   "cell_type": "code",
   "execution_count": 6,
   "metadata": {},
   "outputs": [
    {
     "data": {
      "text/plain": [
       "(60000, 28, 28)"
      ]
     },
     "execution_count": 6,
     "metadata": {},
     "output_type": "execute_result"
    }
   ],
   "source": [
    "train_images.shape"
   ]
  },
  {
   "cell_type": "code",
   "execution_count": 7,
   "metadata": {},
   "outputs": [
    {
     "data": {
      "text/plain": [
       "(10000, 28, 28)"
      ]
     },
     "execution_count": 7,
     "metadata": {},
     "output_type": "execute_result"
    }
   ],
   "source": [
    "test_image.shape"
   ]
  },
  {
   "cell_type": "code",
   "execution_count": 8,
   "metadata": {},
   "outputs": [],
   "source": [
    "class_names = ['T-shirt/top', 'Trouser', 'Pullover', 'Dress', 'Coat','Sandal', 'Shirt', 'Sneaker', 'Bag', 'Ankle boot']"
   ]
  },
  {
   "cell_type": "markdown",
   "metadata": {},
   "source": [
    "### Displaying the images"
   ]
  },
  {
   "cell_type": "code",
   "execution_count": 9,
   "metadata": {},
   "outputs": [
    {
     "data": {
      "text/plain": [
       "<matplotlib.image.AxesImage at 0x1458a488>"
      ]
     },
     "execution_count": 9,
     "metadata": {},
     "output_type": "execute_result"
    },
    {
     "data": {
      "image/png": "[encoded data removed]",
      "text/plain": [
       "<Figure size 432x288 with 1 Axes>"
      ]
     },
     "metadata": {
      "needs_background": "light"
     },
     "output_type": "display_data"
    }
   ],
   "source": [
    "plt.imshow(train_images[7],cmap= plt.cm.binary)\n",
    "plt.imshow(train_images[7])"
   ]
  },
  {
   "cell_type": "markdown",
   "metadata": {},
   "source": [
    "### Reducing pixel size"
   ]
  },
  {
   "cell_type": "code",
   "execution_count": 10,
   "metadata": {},
   "outputs": [],
   "source": [
    "train_images = train_images/255.0\n",
    "test_images = test_image/255.0"
   ]
  },
  {
   "cell_type": "code",
   "execution_count": 11,
   "metadata": {},
   "outputs": [
    {
     "data": {
      "text/plain": [
       "<matplotlib.image.AxesImage at 0x1ca109c8>"
      ]
     },
     "execution_count": 11,
     "metadata": {},
     "output_type": "execute_result"
    },
    {
     "data": {
      "image/png": "[encoded data removed]",
      "text/plain": [
       "<Figure size 432x288 with 1 Axes>"
      ]
     },
     "metadata": {
      "needs_background": "light"
     },
     "output_type": "display_data"
    }
   ],
   "source": [
    "plt.imshow(train_images[7],cmap= plt.cm.binary)\n",
    "plt.imshow(train_images[7])"
   ]
  },
  {
   "cell_type": "code",
   "execution_count": null,
   "metadata": {},
   "outputs": [],
   "source": [
    "## it looks almost the same but values in the bands inside differ i.e. RGB"
   ]
  },
  {
   "cell_type": "markdown",
   "metadata": {},
   "source": [
    "### Fitting to the model"
   ]
  },
  {
   "cell_type": "code",
   "execution_count": 12,
   "metadata": {},
   "outputs": [
    {
     "name": "stdout",
     "output_type": "stream",
     "text": [
      "WARNING:tensorflow:From C:\\Users\\Koti\\Anaconda3\\lib\\site-packages\\tensorflow\\python\\ops\\resource_variable_ops.py:435: colocate_with (from tensorflow.python.framework.ops) is deprecated and will be removed in a future version.\n",
      "Instructions for updating:\n",
      "Colocations handled automatically by placer.\n"
     ]
    }
   ],
   "source": [
    "model = keras.Sequential([\n",
    "    keras.layers.Flatten(input_shape=(28,28)),     #Shrinking the data\n",
    "    keras.layers.Dense(128,activation=\"relu\"),     # fully conncted layer\n",
    "    keras.layers.Dense(10,activation=\"softmax\")\n",
    "])"
   ]
  },
  {
   "cell_type": "code",
   "execution_count": 13,
   "metadata": {},
   "outputs": [],
   "source": [
    "model.compile(optimizer=\"adam\", loss=\"sparse_categorical_crossentropy\", metrics=[\"accuracy\"])"
   ]
  },
  {
   "cell_type": "code",
   "execution_count": 16,
   "metadata": {},
   "outputs": [
    {
     "name": "stdout",
     "output_type": "stream",
     "text": [
      "Epoch 1/100\n",
      "60000/60000 [==============================] - 5s 90us/sample - loss: 0.0936 - acc: 0.9644\n",
      "Epoch 2/100\n",
      "60000/60000 [==============================] - 5s 91us/sample - loss: 0.0905 - acc: 0.9654\n",
      "Epoch 3/100\n",
      "60000/60000 [==============================] - 5s 87us/sample - loss: 0.0900 - acc: 0.9660\n",
      "Epoch 4/100\n",
      "60000/60000 [==============================] - 5s 90us/sample - loss: 0.0873 - acc: 0.9671\n",
      "Epoch 5/100\n",
      "60000/60000 [==============================] - 5s 91us/sample - loss: 0.0874 - acc: 0.9667\n",
      "Epoch 6/100\n",
      "60000/60000 [==============================] - 5s 88us/sample - loss: 0.0882 - acc: 0.9666\n",
      "Epoch 7/100\n",
      "60000/60000 [==============================] - 5s 89us/sample - loss: 0.0838 - acc: 0.9678\n",
      "Epoch 8/100\n",
      "60000/60000 [==============================] - 5s 91us/sample - loss: 0.0841 - acc: 0.9685\n",
      "Epoch 9/100\n",
      "60000/60000 [==============================] - 5s 87us/sample - loss: 0.0817 - acc: 0.9693\n",
      "Epoch 10/100\n",
      "60000/60000 [==============================] - 5s 89us/sample - loss: 0.0805 - acc: 0.9696\n",
      "Epoch 11/100\n",
      "60000/60000 [==============================] - 6s 96us/sample - loss: 0.0821 - acc: 0.9692\n",
      "Epoch 12/100\n",
      "60000/60000 [==============================] - 5s 88us/sample - loss: 0.0770 - acc: 0.9701\n",
      "Epoch 13/100\n",
      "60000/60000 [==============================] - 6s 92us/sample - loss: 0.0793 - acc: 0.9700\n",
      "Epoch 14/100\n",
      "60000/60000 [==============================] - 5s 89us/sample - loss: 0.0763 - acc: 0.9710\n",
      "Epoch 15/100\n",
      "60000/60000 [==============================] - 5s 82us/sample - loss: 0.0733 - acc: 0.9719\n",
      "Epoch 16/100\n",
      "60000/60000 [==============================] - 5s 90us/sample - loss: 0.0750 - acc: 0.9719\n",
      "Epoch 17/100\n",
      "60000/60000 [==============================] - 5s 92us/sample - loss: 0.0725 - acc: 0.9727\n",
      "Epoch 18/100\n",
      "60000/60000 [==============================] - 5s 88us/sample - loss: 0.0707 - acc: 0.9736\n",
      "Epoch 19/100\n",
      "60000/60000 [==============================] - 6s 94us/sample - loss: 0.0716 - acc: 0.9729\n",
      "Epoch 20/100\n",
      "60000/60000 [==============================] - 5s 90us/sample - loss: 0.0695 - acc: 0.9742\n",
      "Epoch 21/100\n",
      "60000/60000 [==============================] - 5s 86us/sample - loss: 0.0684 - acc: 0.9744\n",
      "Epoch 22/100\n",
      "60000/60000 [==============================] - 5s 89us/sample - loss: 0.0698 - acc: 0.9740\n",
      "Epoch 23/100\n",
      "60000/60000 [==============================] - 5s 90us/sample - loss: 0.0706 - acc: 0.9734\n",
      "Epoch 24/100\n",
      "60000/60000 [==============================] - 5s 88us/sample - loss: 0.0647 - acc: 0.9762\n",
      "Epoch 25/100\n",
      "60000/60000 [==============================] - 5s 91us/sample - loss: 0.0643 - acc: 0.9753\n",
      "Epoch 26/100\n",
      "60000/60000 [==============================] - 6s 92us/sample - loss: 0.0672 - acc: 0.9756\n",
      "Epoch 27/100\n",
      "60000/60000 [==============================] - 5s 89us/sample - loss: 0.0633 - acc: 0.9765\n",
      "Epoch 28/100\n",
      "60000/60000 [==============================] - 6s 93us/sample - loss: 0.0619 - acc: 0.9771\n",
      "Epoch 29/100\n",
      "60000/60000 [==============================] - 5s 91us/sample - loss: 0.0615 - acc: 0.9771\n",
      "Epoch 30/100\n",
      "60000/60000 [==============================] - 5s 89us/sample - loss: 0.0613 - acc: 0.9771\n",
      "Epoch 31/100\n",
      "60000/60000 [==============================] - 6s 95us/sample - loss: 0.0630 - acc: 0.9766\n",
      "Epoch 32/100\n",
      "60000/60000 [==============================] - 6s 93us/sample - loss: 0.0600 - acc: 0.9776\n",
      "Epoch 33/100\n",
      "60000/60000 [==============================] - 5s 83us/sample - loss: 0.0596 - acc: 0.9774\n",
      "Epoch 34/100\n",
      "60000/60000 [==============================] - 5s 87us/sample - loss: 0.0574 - acc: 0.9784\n",
      "Epoch 35/100\n",
      "60000/60000 [==============================] - 5s 87us/sample - loss: 0.0582 - acc: 0.9782\n",
      "Epoch 36/100\n",
      "60000/60000 [==============================] - 5s 83us/sample - loss: 0.0547 - acc: 0.9797\n",
      "Epoch 37/100\n",
      "60000/60000 [==============================] - 5s 87us/sample - loss: 0.0557 - acc: 0.9786\n",
      "Epoch 38/100\n",
      "60000/60000 [==============================] - 5s 85us/sample - loss: 0.0578 - acc: 0.9784\n",
      "Epoch 39/100\n",
      "60000/60000 [==============================] - 5s 84us/sample - loss: 0.0557 - acc: 0.9781\n",
      "Epoch 40/100\n",
      "60000/60000 [==============================] - 5s 86us/sample - loss: 0.0559 - acc: 0.9794\n",
      "Epoch 41/100\n",
      "60000/60000 [==============================] - 5s 87us/sample - loss: 0.0529 - acc: 0.9809\n",
      "Epoch 42/100\n",
      "60000/60000 [==============================] - 5s 84us/sample - loss: 0.0531 - acc: 0.9804\n",
      "Epoch 43/100\n",
      "60000/60000 [==============================] - 5s 85us/sample - loss: 0.0525 - acc: 0.9804\n",
      "Epoch 44/100\n",
      "60000/60000 [==============================] - 5s 88us/sample - loss: 0.0527 - acc: 0.9803\n",
      "Epoch 45/100\n",
      "60000/60000 [==============================] - 5s 84us/sample - loss: 0.0522 - acc: 0.9815\n",
      "Epoch 46/100\n",
      "60000/60000 [==============================] - 5s 85us/sample - loss: 0.0487 - acc: 0.9817\n",
      "Epoch 47/100\n",
      "60000/60000 [==============================] - 5s 90us/sample - loss: 0.0523 - acc: 0.9811\n",
      "Epoch 48/100\n",
      "60000/60000 [==============================] - 5s 84us/sample - loss: 0.0511 - acc: 0.9804\n",
      "Epoch 49/100\n",
      "60000/60000 [==============================] - 5s 85us/sample - loss: 0.0499 - acc: 0.9812\n",
      "Epoch 50/100\n",
      "60000/60000 [==============================] - 5s 90us/sample - loss: 0.0513 - acc: 0.9814\n",
      "Epoch 51/100\n",
      "60000/60000 [==============================] - 5s 84us/sample - loss: 0.0465 - acc: 0.9832\n",
      "Epoch 52/100\n",
      "60000/60000 [==============================] - 5s 84us/sample - loss: 0.0478 - acc: 0.9823\n",
      "Epoch 53/100\n",
      "60000/60000 [==============================] - 5s 90us/sample - loss: 0.0512 - acc: 0.9809\n",
      "Epoch 54/100\n",
      "60000/60000 [==============================] - 5s 85us/sample - loss: 0.0465 - acc: 0.9824\n",
      "Epoch 55/100\n",
      "60000/60000 [==============================] - 5s 84us/sample - loss: 0.0473 - acc: 0.9823\n",
      "Epoch 56/100\n",
      "60000/60000 [==============================] - 5s 88us/sample - loss: 0.0478 - acc: 0.9830\n",
      "Epoch 57/100\n",
      "60000/60000 [==============================] - 5s 85us/sample - loss: 0.0444 - acc: 0.9836\n",
      "Epoch 58/100\n",
      "60000/60000 [==============================] - 5s 85us/sample - loss: 0.0446 - acc: 0.9836\n",
      "Epoch 59/100\n",
      "60000/60000 [==============================] - 6s 98us/sample - loss: 0.0445 - acc: 0.9831\n",
      "Epoch 60/100\n",
      "60000/60000 [==============================] - 5s 90us/sample - loss: 0.0461 - acc: 0.9832\n",
      "Epoch 61/100\n",
      "60000/60000 [==============================] - 5s 91us/sample - loss: 0.0433 - acc: 0.9839\n",
      "Epoch 62/100\n",
      "60000/60000 [==============================] - 6s 93us/sample - loss: 0.0447 - acc: 0.9836\n",
      "Epoch 63/100\n",
      "60000/60000 [==============================] - 5s 91us/sample - loss: 0.0433 - acc: 0.9843\n",
      "Epoch 64/100\n",
      "60000/60000 [==============================] - 5s 89us/sample - loss: 0.0429 - acc: 0.9837\n",
      "Epoch 65/100\n",
      "60000/60000 [==============================] - 6s 96us/sample - loss: 0.0446 - acc: 0.9836\n",
      "Epoch 66/100\n",
      "60000/60000 [==============================] - 5s 91us/sample - loss: 0.0408 - acc: 0.9849\n",
      "Epoch 67/100\n",
      "60000/60000 [==============================] - 6s 92us/sample - loss: 0.0428 - acc: 0.9845\n",
      "Epoch 68/100\n",
      "60000/60000 [==============================] - 6s 100us/sample - loss: 0.0411 - acc: 0.9847\n",
      "Epoch 69/100\n",
      "60000/60000 [==============================] - 5s 91us/sample - loss: 0.0436 - acc: 0.9836\n",
      "Epoch 70/100\n",
      "60000/60000 [==============================] - 6s 95us/sample - loss: 0.0436 - acc: 0.9847\n",
      "Epoch 71/100\n",
      "60000/60000 [==============================] - 6s 96us/sample - loss: 0.0407 - acc: 0.9848\n",
      "Epoch 72/100\n",
      "60000/60000 [==============================] - 5s 92us/sample - loss: 0.0385 - acc: 0.9854\n",
      "Epoch 73/100\n",
      "60000/60000 [==============================] - 6s 96us/sample - loss: 0.0410 - acc: 0.9848\n",
      "Epoch 74/100\n",
      "60000/60000 [==============================] - 6s 94us/sample - loss: 0.0421 - acc: 0.9840\n",
      "Epoch 75/100\n",
      "60000/60000 [==============================] - 6s 93us/sample - loss: 0.0374 - acc: 0.9862\n",
      "Epoch 76/100\n",
      "60000/60000 [==============================] - 6s 97us/sample - loss: 0.0411 - acc: 0.9853\n",
      "Epoch 77/100\n",
      "60000/60000 [==============================] - 6s 93us/sample - loss: 0.0405 - acc: 0.9850\n",
      "Epoch 78/100\n",
      "60000/60000 [==============================] - 5s 91us/sample - loss: 0.0396 - acc: 0.9851\n",
      "Epoch 79/100\n",
      "60000/60000 [==============================] - 6s 99us/sample - loss: 0.0416 - acc: 0.9852\n",
      "Epoch 80/100\n",
      "60000/60000 [==============================] - 6s 94us/sample - loss: 0.0379 - acc: 0.9858\n",
      "Epoch 81/100\n",
      "60000/60000 [==============================] - 5s 88us/sample - loss: 0.0364 - acc: 0.9868\n",
      "Epoch 82/100\n",
      "60000/60000 [==============================] - 6s 96us/sample - loss: 0.0356 - acc: 0.9869\n",
      "Epoch 83/100\n",
      "60000/60000 [==============================] - 5s 91us/sample - loss: 0.0396 - acc: 0.9855\n",
      "Epoch 84/100\n",
      "60000/60000 [==============================] - 5s 90us/sample - loss: 0.0360 - acc: 0.9868\n",
      "Epoch 85/100\n",
      "60000/60000 [==============================] - 6s 96us/sample - loss: 0.0376 - acc: 0.9857\n",
      "Epoch 86/100\n",
      "60000/60000 [==============================] - 5s 90us/sample - loss: 0.0348 - acc: 0.9874\n",
      "Epoch 87/100\n",
      "60000/60000 [==============================] - 6s 92us/sample - loss: 0.0359 - acc: 0.9865\n",
      "Epoch 88/100\n",
      "60000/60000 [==============================] - 6s 95us/sample - loss: 0.0363 - acc: 0.9865\n",
      "Epoch 89/100\n",
      "60000/60000 [==============================] - 5s 89us/sample - loss: 0.0340 - acc: 0.9875\n",
      "Epoch 90/100\n",
      "60000/60000 [==============================] - 6s 92us/sample - loss: 0.0351 - acc: 0.9871\n",
      "Epoch 91/100\n",
      "60000/60000 [==============================] - 6s 95us/sample - loss: 0.0363 - acc: 0.9871\n",
      "Epoch 92/100\n",
      "60000/60000 [==============================] - 6s 100us/sample - loss: 0.0369 - acc: 0.9866\n",
      "Epoch 93/100\n",
      "60000/60000 [==============================] - 6s 97us/sample - loss: 0.0341 - acc: 0.9874\n",
      "Epoch 94/100\n",
      "60000/60000 [==============================] - 5s 83us/sample - loss: 0.0344 - acc: 0.9875\n",
      "Epoch 95/100\n",
      "60000/60000 [==============================] - 5s 81us/sample - loss: 0.0351 - acc: 0.9875\n",
      "Epoch 96/100\n",
      "60000/60000 [==============================] - 6s 99us/sample - loss: 0.0340 - acc: 0.9874\n",
      "Epoch 97/100\n",
      "60000/60000 [==============================] - 6s 93us/sample - loss: 0.0349 - acc: 0.9874\n",
      "Epoch 98/100\n",
      "60000/60000 [==============================] - 5s 90us/sample - loss: 0.0351 - acc: 0.9876\n",
      "Epoch 99/100\n",
      "60000/60000 [==============================] - 6s 95us/sample - loss: 0.0311 - acc: 0.9883\n",
      "Epoch 100/100\n",
      "60000/60000 [==============================] - 6s 94us/sample - loss: 0.0352 - acc: 0.9871\n"
     ]
    },
    {
     "data": {
      "text/plain": [
       "<tensorflow.python.keras.callbacks.History at 0x17d5b548>"
      ]
     },
     "execution_count": 16,
     "metadata": {},
     "output_type": "execute_result"
    }
   ],
   "source": [
    "model.fit(train_images,train_labels,epochs=100)"
   ]
  },
  {
   "cell_type": "code",
   "execution_count": 17,
   "metadata": {},
   "outputs": [
    {
     "name": "stdout",
     "output_type": "stream",
     "text": [
      "10000/10000 [==============================] - 0s 36us/sample - loss: 0.7978 - acc: 0.8889\n",
      "\n",
      "Test accuracy: 0.8889\n"
     ]
    }
   ],
   "source": [
    "test_loss, test_acc = model.evaluate(test_images, test_labels)\n",
    "print('\\nTest accuracy:', test_acc)"
   ]
  },
  {
   "cell_type": "code",
   "execution_count": null,
   "metadata": {},
   "outputs": [],
   "source": []
  },
  {
   "cell_type": "markdown",
   "metadata": {},
   "source": [
    "### Here are the various iterations using different Epochs\n",
    "#### Epoch 10 acc 68\n",
    "#### Epoch 50 acc 88.7\n",
    "#### Epoch 100 acc 88.8"
   ]
  },
  {
   "cell_type": "code",
   "execution_count": null,
   "metadata": {},
   "outputs": [],
   "source": []
  },
  {
   "cell_type": "markdown",
   "metadata": {},
   "source": [
    "### To predict the item and display corresponding name"
   ]
  },
  {
   "cell_type": "code",
   "execution_count": 27,
   "metadata": {},
   "outputs": [
    {
     "name": "stdout",
     "output_type": "stream",
     "text": [
      "Ankle boot\n"
     ]
    }
   ],
   "source": [
    "prediction = model.predict(test_images)\n",
    "print(class_names[np.argmax(prediction[7])])"
   ]
  },
  {
   "cell_type": "markdown",
   "metadata": {},
   "source": [
    "### To show the images we are predicting on "
   ]
  },
  {
   "cell_type": "code",
   "execution_count": 28,
   "metadata": {},
   "outputs": [
    {
     "data": {
      "image/png": "[encoded data removed]",
      "text/plain": [
       "<Figure size 360x360 with 1 Axes>"
      ]
     },
     "metadata": {
      "needs_background": "light"
     },
     "output_type": "display_data"
    },
    {
     "data": {
      "image/png": "[encoded data removed]",
      "text/plain": [
       "<Figure size 432x288 with 1 Axes>"
      ]
     },
     "metadata": {
      "needs_background": "light"
     },
     "output_type": "display_data"
    },
    {
     "data": {
      "image/png": "[encoded data removed]",
      "text/plain": [
       "<Figure size 432x288 with 1 Axes>"
      ]
     },
     "metadata": {
      "needs_background": "light"
     },
     "output_type": "display_data"
    },
    {
     "data": {
      "image/png": "[encoded data removed]",
      "text/plain": [
       "<Figure size 432x288 with 1 Axes>"
      ]
     },
     "metadata": {
      "needs_background": "light"
     },
     "output_type": "display_data"
    },
    {
     "data": {
      "image/png": "[encoded data removed]",
      "text/plain": [
       "<Figure size 432x288 with 1 Axes>"
      ]
     },
     "metadata": {
      "needs_background": "light"
     },
     "output_type": "display_data"
    }
   ],
   "source": [
    "plt.figure(figsize=(5,5))\n",
    "for i in range(5):\n",
    "    plt.grid(False)\n",
    "    plt.imshow(test_images[i], cmap=plt.cm.binary)\n",
    "    plt.xlabel(class_names[test_labels[i]])\n",
    "    plt.title(class_names[np.argmax(prediction[i])])\n",
    "    plt.show()"
   ]
  }
 ],
 "metadata": {
  "kernelspec": {
   "display_name": "Python 3",
   "language": "python",
   "name": "python3"
  },
  "language_info": {
   "codemirror_mode": {
    "name": "ipython",
    "version": 3
   },
   "file_extension": ".py",
   "mimetype": "text/x-python",
   "name": "python",
   "nbconvert_exporter": "python",
   "pygments_lexer": "ipython3",
   "version": "3.7.5"
  }
 },
 "nbformat": 4,
 "nbformat_minor": 4
}
